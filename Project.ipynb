{
 "cells": [
  {
   "cell_type": "code",
   "execution_count": 1,
   "id": "fcf2c158-e9d3-4cdd-802a-5f45c2431cc4",
   "metadata": {
    "editable": true,
    "slideshow": {
     "slide_type": ""
    },
    "tags": []
   },
   "outputs": [
    {
     "name": "stdout",
     "output_type": "stream",
     "text": [
      "Requirement already satisfied: pandas in c:\\users\\user\\anaconda3\\lib\\site-packages (2.2.2)\n",
      "Requirement already satisfied: numpy>=1.26.0 in c:\\users\\user\\anaconda3\\lib\\site-packages (from pandas) (1.26.4)\n",
      "Requirement already satisfied: python-dateutil>=2.8.2 in c:\\users\\user\\anaconda3\\lib\\site-packages (from pandas) (2.9.0.post0)\n",
      "Requirement already satisfied: pytz>=2020.1 in c:\\users\\user\\anaconda3\\lib\\site-packages (from pandas) (2024.1)\n",
      "Requirement already satisfied: tzdata>=2022.7 in c:\\users\\user\\anaconda3\\lib\\site-packages (from pandas) (2023.3)\n",
      "Requirement already satisfied: six>=1.5 in c:\\users\\user\\anaconda3\\lib\\site-packages (from python-dateutil>=2.8.2->pandas) (1.16.0)\n"
     ]
    }
   ],
   "source": [
    "# install pandas\n",
    "!pip install pandas"
   ]
  },
  {
   "cell_type": "code",
   "execution_count": 2,
   "id": "82ec9042-c9b1-45b1-b721-9492659101c7",
   "metadata": {},
   "outputs": [
    {
     "name": "stdout",
     "output_type": "stream",
     "text": [
      "7116\n"
     ]
    }
   ],
   "source": [
    "# session 1 - 07.05.25 participants Hannah, Lena, Paula, Katharina\n",
    "# 1 Data set selection \n",
    "\n",
    "import pandas as pd\n",
    "\n",
    "# load data frame\n",
    "df = pd.read_csv(r\"C:\\Users\\User\\OneDrive\\Dokumente\\Uni\\Human Factors Master\\Semester 4\\Machine Learning\\Projekt\\alzheimerdata_with_missing_values.csv\")\n",
    "\n",
    "# show first rows for overview\n",
    "df.head()\n",
    "\n",
    "# number of columns and rows\n",
    "df.shape\n",
    "# we have 2149 rows and 35 columns\n",
    "\n",
    "# culumn names\n",
    "df.columns\n",
    "\n",
    "# why did we choose this data frame?\n",
    "# contains numerical (AlcoholConsumption, PhysicalActivity, SleepQuality,...); categorical data (Gender, Ethnicity, EducationLevel, Smoking,...)\n",
    "# includes more than 10 input variablen -> 34\n",
    "# clearly defined target variable: Diagnosis (0 = no Alzheimer; 1 = Alzheimer)\n",
    "# sufficient size -> 2149 rows\n",
    "# complexity: medical, demographical and cognitive data\n",
    "\n",
    "# suitability: cleary defined binary target variable; sufficient input variables (features), sufficient size\n",
    "\n",
    "# limitations:\n",
    "# missing values?\n",
    "print(df.isnull().values.sum())\n",
    "# we dont have missing values   --> BEKOMMEN NOCH ANGEPASSTEN DATENSATZ\n",
    "\n",
    "\n",
    "\n"
   ]
  },
  {
   "cell_type": "code",
   "execution_count": null,
   "id": "47a7c8c5-8edc-4c17-a1d0-bea2a879f7ac",
   "metadata": {},
   "outputs": [],
   "source": []
  },
  {
   "cell_type": "code",
   "execution_count": null,
   "id": "0c12c2ec-cf58-4954-ad5b-c3094d6eb543",
   "metadata": {},
   "outputs": [],
   "source": []
  }
 ],
 "metadata": {
  "kernelspec": {
   "display_name": "Python [conda env:base] *",
   "language": "python",
   "name": "conda-base-py"
  },
  "language_info": {
   "codemirror_mode": {
    "name": "ipython",
    "version": 3
   },
   "file_extension": ".py",
   "mimetype": "text/x-python",
   "name": "python",
   "nbconvert_exporter": "python",
   "pygments_lexer": "ipython3",
   "version": "3.12.7"
  }
 },
 "nbformat": 4,
 "nbformat_minor": 5
}
